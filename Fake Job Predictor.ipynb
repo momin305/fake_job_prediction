{
 "cells": [
  {
   "cell_type": "code",
   "execution_count": 1,
   "id": "eabcfa54",
   "metadata": {},
   "outputs": [],
   "source": [
    # "Ensemble ML Modelling to classify Real/Fake job\n",
    "import pandas as pd\n",
    "import numpy as np\n",
    "import matplotlib.pyplot as plt \n",
    "import seaborn as sns\n",
    "import nltk\n",
    "from sklearn.svm import SVC\n",
    "from sklearn.tree import DecisionTreeClassifier\n",
    "from collections import Counter\n",
    "from wordcloud import WordCloud\n",
    "from sklearn.metrics import classification_report\n",
    "from sklearn.metrics import confusion_matrix\n",
    "\n",
    "\n",
    "from sklearn.feature_extraction.text import TfidfVectorizer, CountVectorizer\n",
    "from sklearn.model_selection import train_test_split\n",
    "from sklearn.pipeline import Pipeline\n",
    "from sklearn.base import TransformerMixin\n",
    "from sklearn.metrics import accuracy_score, recall_score, plot_confusion_matrix\n",
    "from sklearn.linear_model import LogisticRegression\n",
    "from sklearn.ensemble import RandomForestClassifier\n",
    "from xgboost import XGBClassifier\n",
    "from sklearn.naive_bayes import GaussianNB\n",
    "from sklearn.svm import SVC\n",
    "\n",
    "import warnings\n",
    "warnings.filterwarnings(\"ignore\")\n",
    "\n",
    "\n",
    "from nltk.corpus import stopwords\n",
    "stop_words = set(stopwords.words('english'))"
   ]
  },
  {
   "cell_type": "code",
   "execution_count": 2,
   "id": "7e81eb4d",
   "metadata": {},
   "outputs": [],
   "source": [
    "df = pd.read_csv('fake_job_postings.csv')"
   ]
  },
  {
   "cell_type": "code",
   "execution_count": 3,
   "id": "1d4e4c66",
   "metadata": {},
   "outputs": [
    {
     "data": {
      "text/html": [
       "<div>\n",
       "<style scoped>\n",
       "    .dataframe tbody tr th:only-of-type {\n",
       "        vertical-align: middle;\n",
       "    }\n",
       "\n",
       "    .dataframe tbody tr th {\n",
       "        vertical-align: top;\n",
       "    }\n",
       "\n",
       "    .dataframe thead th {\n",
       "        text-align: right;\n",
       "    }\n",
       "</style>\n",
       "<table border=\"1\" class=\"dataframe\">\n",
       "  <thead>\n",
       "    <tr style=\"text-align: right;\">\n",
       "      <th></th>\n",
       "      <th>job_id</th>\n",
       "      <th>title</th>\n",
       "      <th>location</th>\n",
       "      <th>department</th>\n",
       "      <th>salary_range</th>\n",
       "      <th>company_profile</th>\n",
       "      <th>description</th>\n",
       "      <th>requirements</th>\n",
       "      <th>benefits</th>\n",
       "      <th>telecommuting</th>\n",
       "      <th>has_company_logo</th>\n",
       "      <th>has_questions</th>\n",
       "      <th>employment_type</th>\n",
       "      <th>required_experience</th>\n",
       "      <th>required_education</th>\n",
       "      <th>industry</th>\n",
       "      <th>function</th>\n",
       "      <th>fraudulent</th>\n",
       "    </tr>\n",
       "  </thead>\n",
       "  <tbody>\n",
       "    <tr>\n",
       "      <th>0</th>\n",
       "      <td>1</td>\n",
       "      <td>Marketing Intern</td>\n",
       "      <td>US, NY, New York</td>\n",
       "      <td>Marketing</td>\n",
       "      <td>NaN</td>\n",
       "      <td>We're Food52, and we've created a groundbreaki...</td>\n",
       "      <td>Food52, a fast-growing, James Beard Award-winn...</td>\n",
       "      <td>Experience with content management systems a m...</td>\n",
       "      <td>NaN</td>\n",
       "      <td>0</td>\n",
       "      <td>1</td>\n",
       "      <td>0</td>\n",
       "      <td>Other</td>\n",
       "      <td>Internship</td>\n",
       "      <td>NaN</td>\n",
       "      <td>NaN</td>\n",
       "      <td>Marketing</td>\n",
       "      <td>0</td>\n",
       "    </tr>\n",
       "    <tr>\n",
       "      <th>1</th>\n",
       "      <td>2</td>\n",
       "      <td>Customer Service - Cloud Video Production</td>\n",
       "      <td>NZ, , Auckland</td>\n",
       "      <td>Success</td>\n",
       "      <td>NaN</td>\n",
       "      <td>90 Seconds, the worlds Cloud Video Production ...</td>\n",
       "      <td>Organised - Focused - Vibrant - Awesome!Do you...</td>\n",
       "      <td>What we expect from you:Your key responsibilit...</td>\n",
       "      <td>What you will get from usThrough being part of...</td>\n",
       "      <td>0</td>\n",
       "      <td>1</td>\n",
       "      <td>0</td>\n",
       "      <td>Full-time</td>\n",
       "      <td>Not Applicable</td>\n",
       "      <td>NaN</td>\n",
       "      <td>Marketing and Advertising</td>\n",
       "      <td>Customer Service</td>\n",
       "      <td>0</td>\n",
       "    </tr>\n",
       "    <tr>\n",
       "      <th>2</th>\n",
       "      <td>3</td>\n",
       "      <td>Commissioning Machinery Assistant (CMA)</td>\n",
       "      <td>US, IA, Wever</td>\n",
       "      <td>NaN</td>\n",
       "      <td>NaN</td>\n",
       "      <td>Valor Services provides Workforce Solutions th...</td>\n",
       "      <td>Our client, located in Houston, is actively se...</td>\n",
       "      <td>Implement pre-commissioning and commissioning ...</td>\n",
       "      <td>NaN</td>\n",
       "      <td>0</td>\n",
       "      <td>1</td>\n",
       "      <td>0</td>\n",
       "      <td>NaN</td>\n",
       "      <td>NaN</td>\n",
       "      <td>NaN</td>\n",
       "      <td>NaN</td>\n",
       "      <td>NaN</td>\n",
       "      <td>0</td>\n",
       "    </tr>\n",
       "    <tr>\n",
       "      <th>3</th>\n",
       "      <td>4</td>\n",
       "      <td>Account Executive - Washington DC</td>\n",
       "      <td>US, DC, Washington</td>\n",
       "      <td>Sales</td>\n",
       "      <td>NaN</td>\n",
       "      <td>Our passion for improving quality of life thro...</td>\n",
       "      <td>THE COMPANY: ESRI – Environmental Systems Rese...</td>\n",
       "      <td>EDUCATION: Bachelor’s or Master’s in GIS, busi...</td>\n",
       "      <td>Our culture is anything but corporate—we have ...</td>\n",
       "      <td>0</td>\n",
       "      <td>1</td>\n",
       "      <td>0</td>\n",
       "      <td>Full-time</td>\n",
       "      <td>Mid-Senior level</td>\n",
       "      <td>Bachelor's Degree</td>\n",
       "      <td>Computer Software</td>\n",
       "      <td>Sales</td>\n",
       "      <td>0</td>\n",
       "    </tr>\n",
       "    <tr>\n",
       "      <th>4</th>\n",
       "      <td>5</td>\n",
       "      <td>Bill Review Manager</td>\n",
       "      <td>US, FL, Fort Worth</td>\n",
       "      <td>NaN</td>\n",
       "      <td>NaN</td>\n",
       "      <td>SpotSource Solutions LLC is a Global Human Cap...</td>\n",
       "      <td>JOB TITLE: Itemization Review ManagerLOCATION:...</td>\n",
       "      <td>QUALIFICATIONS:RN license in the State of Texa...</td>\n",
       "      <td>Full Benefits Offered</td>\n",
       "      <td>0</td>\n",
       "      <td>1</td>\n",
       "      <td>1</td>\n",
       "      <td>Full-time</td>\n",
       "      <td>Mid-Senior level</td>\n",
       "      <td>Bachelor's Degree</td>\n",
       "      <td>Hospital &amp; Health Care</td>\n",
       "      <td>Health Care Provider</td>\n",
       "      <td>0</td>\n",
       "    </tr>\n",
       "  </tbody>\n",
       "</table>\n",
       "</div>"
      ],
      "text/plain": [
       "   job_id                                      title            location  \\\n",
       "0       1                           Marketing Intern    US, NY, New York   \n",
       "1       2  Customer Service - Cloud Video Production      NZ, , Auckland   \n",
       "2       3    Commissioning Machinery Assistant (CMA)       US, IA, Wever   \n",
       "3       4          Account Executive - Washington DC  US, DC, Washington   \n",
       "4       5                        Bill Review Manager  US, FL, Fort Worth   \n",
       "\n",
       "  department salary_range                                    company_profile  \\\n",
       "0  Marketing          NaN  We're Food52, and we've created a groundbreaki...   \n",
       "1    Success          NaN  90 Seconds, the worlds Cloud Video Production ...   \n",
       "2        NaN          NaN  Valor Services provides Workforce Solutions th...   \n",
       "3      Sales          NaN  Our passion for improving quality of life thro...   \n",
       "4        NaN          NaN  SpotSource Solutions LLC is a Global Human Cap...   \n",
       "\n",
       "                                         description  \\\n",
       "0  Food52, a fast-growing, James Beard Award-winn...   \n",
       "1  Organised - Focused - Vibrant - Awesome!Do you...   \n",
       "2  Our client, located in Houston, is actively se...   \n",
       "3  THE COMPANY: ESRI – Environmental Systems Rese...   \n",
       "4  JOB TITLE: Itemization Review ManagerLOCATION:...   \n",
       "\n",
       "                                        requirements  \\\n",
       "0  Experience with content management systems a m...   \n",
       "1  What we expect from you:Your key responsibilit...   \n",
       "2  Implement pre-commissioning and commissioning ...   \n",
       "3  EDUCATION: Bachelor’s or Master’s in GIS, busi...   \n",
       "4  QUALIFICATIONS:RN license in the State of Texa...   \n",
       "\n",
       "                                            benefits  telecommuting  \\\n",
       "0                                                NaN              0   \n",
       "1  What you will get from usThrough being part of...              0   \n",
       "2                                                NaN              0   \n",
       "3  Our culture is anything but corporate—we have ...              0   \n",
       "4                              Full Benefits Offered              0   \n",
       "\n",
       "   has_company_logo  has_questions employment_type required_experience  \\\n",
       "0                 1              0           Other          Internship   \n",
       "1                 1              0       Full-time      Not Applicable   \n",
       "2                 1              0             NaN                 NaN   \n",
       "3                 1              0       Full-time    Mid-Senior level   \n",
       "4                 1              1       Full-time    Mid-Senior level   \n",
       "\n",
       "  required_education                   industry              function  \\\n",
       "0                NaN                        NaN             Marketing   \n",
       "1                NaN  Marketing and Advertising      Customer Service   \n",
       "2                NaN                        NaN                   NaN   \n",
       "3  Bachelor's Degree          Computer Software                 Sales   \n",
       "4  Bachelor's Degree     Hospital & Health Care  Health Care Provider   \n",
       "\n",
       "   fraudulent  \n",
       "0           0  \n",
       "1           0  \n",
       "2           0  \n",
       "3           0  \n",
       "4           0  "
      ]
     },
     "execution_count": 3,
     "metadata": {},
     "output_type": "execute_result"
    }
   ],
   "source": [
    "df.head()"
   ]
  },
  {
   "cell_type": "code",
   "execution_count": 4,
   "id": "32315643",
   "metadata": {},
   "outputs": [
    {
     "data": {
      "text/plain": [
       "(17880, 18)"
      ]
     },
     "execution_count": 4,
     "metadata": {},
     "output_type": "execute_result"
    }
   ],
   "source": [
    "df.shape"
   ]
  },
  {
   "cell_type": "code",
   "execution_count": 5,
   "id": "ed63c683",
   "metadata": {},
   "outputs": [
    {
     "name": "stdout",
     "output_type": "stream",
     "text": [
      "<class 'pandas.core.frame.DataFrame'>\n",
      "RangeIndex: 17880 entries, 0 to 17879\n",
      "Data columns (total 18 columns):\n",
      " #   Column               Non-Null Count  Dtype \n",
      "---  ------               --------------  ----- \n",
      " 0   job_id               17880 non-null  int64 \n",
      " 1   title                17880 non-null  object\n",
      " 2   location             17534 non-null  object\n",
      " 3   department           6333 non-null   object\n",
      " 4   salary_range         2868 non-null   object\n",
      " 5   company_profile      14572 non-null  object\n",
      " 6   description          17879 non-null  object\n",
      " 7   requirements         15185 non-null  object\n",
      " 8   benefits             10670 non-null  object\n",
      " 9   telecommuting        17880 non-null  int64 \n",
      " 10  has_company_logo     17880 non-null  int64 \n",
      " 11  has_questions        17880 non-null  int64 \n",
      " 12  employment_type      14409 non-null  object\n",
      " 13  required_experience  10830 non-null  object\n",
      " 14  required_education   9775 non-null   object\n",
      " 15  industry             12977 non-null  object\n",
      " 16  function             11425 non-null  object\n",
      " 17  fraudulent           17880 non-null  int64 \n",
      "dtypes: int64(5), object(13)\n",
      "memory usage: 2.5+ MB\n"
     ]
    }
   ],
   "source": [
    "df.info()"
   ]
  },
  {
   "cell_type": "code",
   "execution_count": 6,
   "id": "b73c4daf",
   "metadata": {
    "scrolled": true
   },
   "outputs": [
    {
     "data": {
      "text/html": [
       "<div>\n",
       "<style scoped>\n",
       "    .dataframe tbody tr th:only-of-type {\n",
       "        vertical-align: middle;\n",
       "    }\n",
       "\n",
       "    .dataframe tbody tr th {\n",
       "        vertical-align: top;\n",
       "    }\n",
       "\n",
       "    .dataframe thead th {\n",
       "        text-align: right;\n",
       "    }\n",
       "</style>\n",
       "<table border=\"1\" class=\"dataframe\">\n",
       "  <thead>\n",
       "    <tr style=\"text-align: right;\">\n",
       "      <th></th>\n",
       "      <th>job_id</th>\n",
       "      <th>telecommuting</th>\n",
       "      <th>has_company_logo</th>\n",
       "      <th>has_questions</th>\n",
       "      <th>fraudulent</th>\n",
       "    </tr>\n",
       "  </thead>\n",
       "  <tbody>\n",
       "    <tr>\n",
       "      <th>count</th>\n",
       "      <td>17880.000000</td>\n",
       "      <td>17880.000000</td>\n",
       "      <td>17880.000000</td>\n",
       "      <td>17880.000000</td>\n",
       "      <td>17880.000000</td>\n",
       "    </tr>\n",
       "    <tr>\n",
       "      <th>mean</th>\n",
       "      <td>8940.500000</td>\n",
       "      <td>0.042897</td>\n",
       "      <td>0.795302</td>\n",
       "      <td>0.491723</td>\n",
       "      <td>0.048434</td>\n",
       "    </tr>\n",
       "    <tr>\n",
       "      <th>std</th>\n",
       "      <td>5161.655742</td>\n",
       "      <td>0.202631</td>\n",
       "      <td>0.403492</td>\n",
       "      <td>0.499945</td>\n",
       "      <td>0.214688</td>\n",
       "    </tr>\n",
       "    <tr>\n",
       "      <th>min</th>\n",
       "      <td>1.000000</td>\n",
       "      <td>0.000000</td>\n",
       "      <td>0.000000</td>\n",
       "      <td>0.000000</td>\n",
       "      <td>0.000000</td>\n",
       "    </tr>\n",
       "    <tr>\n",
       "      <th>25%</th>\n",
       "      <td>4470.750000</td>\n",
       "      <td>0.000000</td>\n",
       "      <td>1.000000</td>\n",
       "      <td>0.000000</td>\n",
       "      <td>0.000000</td>\n",
       "    </tr>\n",
       "    <tr>\n",
       "      <th>50%</th>\n",
       "      <td>8940.500000</td>\n",
       "      <td>0.000000</td>\n",
       "      <td>1.000000</td>\n",
       "      <td>0.000000</td>\n",
       "      <td>0.000000</td>\n",
       "    </tr>\n",
       "    <tr>\n",
       "      <th>75%</th>\n",
       "      <td>13410.250000</td>\n",
       "      <td>0.000000</td>\n",
       "      <td>1.000000</td>\n",
       "      <td>1.000000</td>\n",
       "      <td>0.000000</td>\n",
       "    </tr>\n",
       "    <tr>\n",
       "      <th>max</th>\n",
       "      <td>17880.000000</td>\n",
       "      <td>1.000000</td>\n",
       "      <td>1.000000</td>\n",
       "      <td>1.000000</td>\n",
       "      <td>1.000000</td>\n",
       "    </tr>\n",
       "  </tbody>\n",
       "</table>\n",
       "</div>"
      ],
      "text/plain": [
       "             job_id  telecommuting  has_company_logo  has_questions  \\\n",
       "count  17880.000000   17880.000000      17880.000000   17880.000000   \n",
       "mean    8940.500000       0.042897          0.795302       0.491723   \n",
       "std     5161.655742       0.202631          0.403492       0.499945   \n",
       "min        1.000000       0.000000          0.000000       0.000000   \n",
       "25%     4470.750000       0.000000          1.000000       0.000000   \n",
       "50%     8940.500000       0.000000          1.000000       0.000000   \n",
       "75%    13410.250000       0.000000          1.000000       1.000000   \n",
       "max    17880.000000       1.000000          1.000000       1.000000   \n",
       "\n",
       "         fraudulent  \n",
       "count  17880.000000  \n",
       "mean       0.048434  \n",
       "std        0.214688  \n",
       "min        0.000000  \n",
       "25%        0.000000  \n",
       "50%        0.000000  \n",
       "75%        0.000000  \n",
       "max        1.000000  "
      ]
     },
     "execution_count": 6,
     "metadata": {},
     "output_type": "execute_result"
    }
   ],
   "source": [
    "df.describe()"
   ]
  },
  {
   "cell_type": "code",
   "execution_count": 7,
   "id": "112044a0",
   "metadata": {},
   "outputs": [
    {
     "data": {
      "text/plain": [
       "job_id                     0\n",
       "title                      0\n",
       "location                 346\n",
       "department             11547\n",
       "salary_range           15012\n",
       "company_profile         3308\n",
       "description                1\n",
       "requirements            2695\n",
       "benefits                7210\n",
       "telecommuting              0\n",
       "has_company_logo           0\n",
       "has_questions              0\n",
       "employment_type         3471\n",
       "required_experience     7050\n",
       "required_education      8105\n",
       "industry                4903\n",
       "function                6455\n",
       "fraudulent                 0\n",
       "dtype: int64"
      ]
     },
     "execution_count": 7,
     "metadata": {},
     "output_type": "execute_result"
    }
   ],
   "source": [
    "df.isnull().sum()"
   ]
  },
  {
   "cell_type": "code",
   "execution_count": 8,
   "id": "4e306b8f",
   "metadata": {},
   "outputs": [
    {
     "data": {
      "text/plain": [
       "2"
      ]
     },
     "execution_count": 8,
     "metadata": {},
     "output_type": "execute_result"
    }
   ],
   "source": [
    "df.fraudulent.nunique()"
   ]
  },
  {
   "cell_type": "markdown",
   "id": "06d4a391",
   "metadata": {},
   "source": [
    "* 4 columns named as job_id, telecommuting, has_company_logo and has_questions features have numerical data and can be removed since they are of no use in text classification problems.\n",
    "* The 'fraudulent' is the column on which our model will be trained and predicted."
   ]
  },
  {
   "cell_type": "code",
   "execution_count": 9,
   "id": "e200dd24",
   "metadata": {},
   "outputs": [],
   "source": [
    "columns=['job_id', 'telecommuting', 'has_company_logo', 'has_questions', 'salary_range', 'employment_type']"
   ]
  },
  {
   "cell_type": "code",
   "execution_count": 10,
   "id": "f0a10f75",
   "metadata": {},
   "outputs": [
    {
     "data": {
      "image/png": "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\n",
      "text/plain": [
       "<Figure size 720x360 with 1 Axes>"
      ]
     },
     "metadata": {},
     "output_type": "display_data"
    }
   ],
   "source": [
    "df_f = df[df['fraudulent'] == 1]  #fraudulent\n",
    "df_nf = df[df['fraudulent'] == 0]  # non fraudulent\n",
    "plt.figure(figsize=(10,5))\n",
    "\n",
    "plt.pie([df_f.shape[0], df_nf.shape[0]], \n",
    "        labels=['fraudulent', 'non fraudulent'], \n",
    "        explode=(0, 0.2),\n",
    "        autopct='%1.2f%%',\n",
    "       colors=['red','blue'])\n",
    "plt.title(' fraudulent vs non fraudulent')\n",
    "plt.show()"
   ]
  },
  {
   "cell_type": "code",
   "execution_count": 11,
   "id": "fcb3a29d",
   "metadata": {},
   "outputs": [],
   "source": [
    "#It is the highly imbalance Dataset"
   ]
  },
  {
   "cell_type": "code",
   "execution_count": 12,
   "id": "8fc9de39",
   "metadata": {},
   "outputs": [],
   "source": [
    "#Replacing the Null Values with \" \"(space)\n",
    "df.fillna(' ', inplace=True)"
   ]
  },
  {
   "cell_type": "code",
   "execution_count": 13,
   "id": "b0ca3433",
   "metadata": {},
   "outputs": [],
   "source": [
    "#checking which country posts most number of jobs\n",
    "def split(location):\n",
    "    l = location.split(',')\n",
    "    return l[0]\n",
    "\n",
    "df['country'] = df['location'].apply(split)"
   ]
  },
  {
   "cell_type": "markdown",
   "id": "fac627d6",
   "metadata": {},
   "source": [
    "**Imputing nulls values**"
   ]
  },
  {
   "cell_type": "code",
   "execution_count": 14,
   "id": "370a9fcd",
   "metadata": {},
   "outputs": [],
   "source": [
    "for idx in (df[df['department'].isna()]['title'].index) :\n",
    "    if 'Marketing' in df.at[idx ,'title' ] :\n",
    "        df.at[idx , 'department'] = 'Marketing'\n",
    "    elif 'Sales' in df.at[idx ,'title' ] :\n",
    "        df.at[idx , 'department'] = 'Sales'\n",
    "    elif ('Accountant' in df.at[idx ,'title' ])|('Accounting' in df.at[idx ,'title' ] ) :\n",
    "        df.at[idx , 'department'] = 'Accounting'\n",
    "    elif ('Engineer' in df.at[idx ,'title' ] )|('Engineering' in df.at[idx ,'title' ] ) :\n",
    "        df.at[idx , 'department'] = 'Engineering'\n",
    "    else :\n",
    "        df.at[idx , 'department'] = df.at[idx , 'title']"
   ]
  },
  {
   "cell_type": "code",
   "execution_count": 15,
   "id": "a13b7739",
   "metadata": {},
   "outputs": [],
   "source": [
    "for idx in (df['salary_range'].dropna()).index :\n",
    "    Range = df.at[idx , 'salary_range'].split('-')\n",
    "    try :\n",
    "        start = int(Range[0])\n",
    "        if start < 1000 :\n",
    "            df.at[idx ,'salary_range' ] = 0\n",
    "        else :\n",
    "            df.at[idx ,'salary_range' ] = start\n",
    "            \n",
    "    except ValueError :\n",
    "        df.at[idx ,'salary_range' ] = 0\n",
    "        \n",
    "df['salary_range'] = df['salary_range'].fillna(0)"
   ]
  },
  {
   "cell_type": "code",
   "execution_count": 16,
   "id": "1e06e800",
   "metadata": {},
   "outputs": [
    {
     "data": {
      "text/html": [
       "<div>\n",
       "<style scoped>\n",
       "    .dataframe tbody tr th:only-of-type {\n",
       "        vertical-align: middle;\n",
       "    }\n",
       "\n",
       "    .dataframe tbody tr th {\n",
       "        vertical-align: top;\n",
       "    }\n",
       "\n",
       "    .dataframe thead th {\n",
       "        text-align: right;\n",
       "    }\n",
       "</style>\n",
       "<table border=\"1\" class=\"dataframe\">\n",
       "  <thead>\n",
       "    <tr style=\"text-align: right;\">\n",
       "      <th></th>\n",
       "      <th>job_id</th>\n",
       "      <th>title</th>\n",
       "      <th>location</th>\n",
       "      <th>department</th>\n",
       "      <th>salary_range</th>\n",
       "      <th>company_profile</th>\n",
       "      <th>description</th>\n",
       "      <th>requirements</th>\n",
       "      <th>benefits</th>\n",
       "      <th>telecommuting</th>\n",
       "      <th>has_company_logo</th>\n",
       "      <th>has_questions</th>\n",
       "      <th>employment_type</th>\n",
       "      <th>required_experience</th>\n",
       "      <th>required_education</th>\n",
       "      <th>industry</th>\n",
       "      <th>function</th>\n",
       "      <th>fraudulent</th>\n",
       "      <th>country</th>\n",
       "    </tr>\n",
       "  </thead>\n",
       "  <tbody>\n",
       "    <tr>\n",
       "      <th>0</th>\n",
       "      <td>1</td>\n",
       "      <td>Marketing Intern</td>\n",
       "      <td>US, NY, New York</td>\n",
       "      <td>Marketing</td>\n",
       "      <td>0</td>\n",
       "      <td>We're Food52, and we've created a groundbreaki...</td>\n",
       "      <td>Food52, a fast-growing, James Beard Award-winn...</td>\n",
       "      <td>Experience with content management systems a m...</td>\n",
       "      <td></td>\n",
       "      <td>0</td>\n",
       "      <td>1</td>\n",
       "      <td>0</td>\n",
       "      <td>Other</td>\n",
       "      <td>Internship</td>\n",
       "      <td></td>\n",
       "      <td></td>\n",
       "      <td>Marketing</td>\n",
       "      <td>0</td>\n",
       "      <td>US</td>\n",
       "    </tr>\n",
       "    <tr>\n",
       "      <th>1</th>\n",
       "      <td>2</td>\n",
       "      <td>Customer Service - Cloud Video Production</td>\n",
       "      <td>NZ, , Auckland</td>\n",
       "      <td>Success</td>\n",
       "      <td>0</td>\n",
       "      <td>90 Seconds, the worlds Cloud Video Production ...</td>\n",
       "      <td>Organised - Focused - Vibrant - Awesome!Do you...</td>\n",
       "      <td>What we expect from you:Your key responsibilit...</td>\n",
       "      <td>What you will get from usThrough being part of...</td>\n",
       "      <td>0</td>\n",
       "      <td>1</td>\n",
       "      <td>0</td>\n",
       "      <td>Full-time</td>\n",
       "      <td>Not Applicable</td>\n",
       "      <td></td>\n",
       "      <td>Marketing and Advertising</td>\n",
       "      <td>Customer Service</td>\n",
       "      <td>0</td>\n",
       "      <td>NZ</td>\n",
       "    </tr>\n",
       "    <tr>\n",
       "      <th>2</th>\n",
       "      <td>3</td>\n",
       "      <td>Commissioning Machinery Assistant (CMA)</td>\n",
       "      <td>US, IA, Wever</td>\n",
       "      <td></td>\n",
       "      <td>0</td>\n",
       "      <td>Valor Services provides Workforce Solutions th...</td>\n",
       "      <td>Our client, located in Houston, is actively se...</td>\n",
       "      <td>Implement pre-commissioning and commissioning ...</td>\n",
       "      <td></td>\n",
       "      <td>0</td>\n",
       "      <td>1</td>\n",
       "      <td>0</td>\n",
       "      <td></td>\n",
       "      <td></td>\n",
       "      <td></td>\n",
       "      <td></td>\n",
       "      <td></td>\n",
       "      <td>0</td>\n",
       "      <td>US</td>\n",
       "    </tr>\n",
       "    <tr>\n",
       "      <th>3</th>\n",
       "      <td>4</td>\n",
       "      <td>Account Executive - Washington DC</td>\n",
       "      <td>US, DC, Washington</td>\n",
       "      <td>Sales</td>\n",
       "      <td>0</td>\n",
       "      <td>Our passion for improving quality of life thro...</td>\n",
       "      <td>THE COMPANY: ESRI – Environmental Systems Rese...</td>\n",
       "      <td>EDUCATION: Bachelor’s or Master’s in GIS, busi...</td>\n",
       "      <td>Our culture is anything but corporate—we have ...</td>\n",
       "      <td>0</td>\n",
       "      <td>1</td>\n",
       "      <td>0</td>\n",
       "      <td>Full-time</td>\n",
       "      <td>Mid-Senior level</td>\n",
       "      <td>Bachelor's Degree</td>\n",
       "      <td>Computer Software</td>\n",
       "      <td>Sales</td>\n",
       "      <td>0</td>\n",
       "      <td>US</td>\n",
       "    </tr>\n",
       "    <tr>\n",
       "      <th>4</th>\n",
       "      <td>5</td>\n",
       "      <td>Bill Review Manager</td>\n",
       "      <td>US, FL, Fort Worth</td>\n",
       "      <td></td>\n",
       "      <td>0</td>\n",
       "      <td>SpotSource Solutions LLC is a Global Human Cap...</td>\n",
       "      <td>JOB TITLE: Itemization Review ManagerLOCATION:...</td>\n",
       "      <td>QUALIFICATIONS:RN license in the State of Texa...</td>\n",
       "      <td>Full Benefits Offered</td>\n",
       "      <td>0</td>\n",
       "      <td>1</td>\n",
       "      <td>1</td>\n",
       "      <td>Full-time</td>\n",
       "      <td>Mid-Senior level</td>\n",
       "      <td>Bachelor's Degree</td>\n",
       "      <td>Hospital &amp; Health Care</td>\n",
       "      <td>Health Care Provider</td>\n",
       "      <td>0</td>\n",
       "      <td>US</td>\n",
       "    </tr>\n",
       "  </tbody>\n",
       "</table>\n",
       "</div>"
      ],
      "text/plain": [
       "   job_id                                      title            location  \\\n",
       "0       1                           Marketing Intern    US, NY, New York   \n",
       "1       2  Customer Service - Cloud Video Production      NZ, , Auckland   \n",
       "2       3    Commissioning Machinery Assistant (CMA)       US, IA, Wever   \n",
       "3       4          Account Executive - Washington DC  US, DC, Washington   \n",
       "4       5                        Bill Review Manager  US, FL, Fort Worth   \n",
       "\n",
       "  department  salary_range                                    company_profile  \\\n",
       "0  Marketing             0  We're Food52, and we've created a groundbreaki...   \n",
       "1    Success             0  90 Seconds, the worlds Cloud Video Production ...   \n",
       "2                        0  Valor Services provides Workforce Solutions th...   \n",
       "3      Sales             0  Our passion for improving quality of life thro...   \n",
       "4                        0  SpotSource Solutions LLC is a Global Human Cap...   \n",
       "\n",
       "                                         description  \\\n",
       "0  Food52, a fast-growing, James Beard Award-winn...   \n",
       "1  Organised - Focused - Vibrant - Awesome!Do you...   \n",
       "2  Our client, located in Houston, is actively se...   \n",
       "3  THE COMPANY: ESRI – Environmental Systems Rese...   \n",
       "4  JOB TITLE: Itemization Review ManagerLOCATION:...   \n",
       "\n",
       "                                        requirements  \\\n",
       "0  Experience with content management systems a m...   \n",
       "1  What we expect from you:Your key responsibilit...   \n",
       "2  Implement pre-commissioning and commissioning ...   \n",
       "3  EDUCATION: Bachelor’s or Master’s in GIS, busi...   \n",
       "4  QUALIFICATIONS:RN license in the State of Texa...   \n",
       "\n",
       "                                            benefits  telecommuting  \\\n",
       "0                                                                 0   \n",
       "1  What you will get from usThrough being part of...              0   \n",
       "2                                                                 0   \n",
       "3  Our culture is anything but corporate—we have ...              0   \n",
       "4                              Full Benefits Offered              0   \n",
       "\n",
       "   has_company_logo  has_questions employment_type required_experience  \\\n",
       "0                 1              0           Other          Internship   \n",
       "1                 1              0       Full-time      Not Applicable   \n",
       "2                 1              0                                       \n",
       "3                 1              0       Full-time    Mid-Senior level   \n",
       "4                 1              1       Full-time    Mid-Senior level   \n",
       "\n",
       "  required_education                   industry              function  \\\n",
       "0                                                           Marketing   \n",
       "1                     Marketing and Advertising      Customer Service   \n",
       "2                                                                       \n",
       "3  Bachelor's Degree          Computer Software                 Sales   \n",
       "4  Bachelor's Degree     Hospital & Health Care  Health Care Provider   \n",
       "\n",
       "   fraudulent country  \n",
       "0           0      US  \n",
       "1           0      NZ  \n",
       "2           0      US  \n",
       "3           0      US  \n",
       "4           0      US  "
      ]
     },
     "execution_count": 16,
     "metadata": {},
     "output_type": "execute_result"
    }
   ],
   "source": [
    "df.head()"
   ]
  },
  {
   "cell_type": "markdown",
   "id": "2a659bc3",
   "metadata": {},
   "source": [
    "**Exploratory Data Analysis**"
   ]
  },
  {
   "cell_type": "code",
   "execution_count": 17,
   "id": "d14972eb",
   "metadata": {},
   "outputs": [
    {
     "data": {
      "text/plain": [
       "Text(0.5, 0, 'Countries')"
      ]
     },
     "execution_count": 17,
     "metadata": {},
     "output_type": "execute_result"
    },
    {
     "data": {
      "image/png": "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\n",
      "text/plain": [
       "<Figure size 576x432 with 1 Axes>"
      ]
     },
     "metadata": {
      "needs_background": "light"
     },
     "output_type": "display_data"
    }
   ],
   "source": [
    "country = dict(df.country.value_counts()[:11])\n",
    "del country[' ']\n",
    "plt.figure(figsize=(8,6))\n",
    "plt.title('No. of job postings country wise', size=20)\n",
    "plt.bar(country.keys(), country.values())\n",
    "plt.ylabel('No. of jobs', size=10)\n",
    "plt.xlabel('Countries', size=10)"
   ]
  },
  {
   "cell_type": "code",
   "execution_count": 18,
   "id": "f0ccc2b0",
   "metadata": {},
   "outputs": [
    {
     "data": {
      "text/plain": [
       "fraudulent  title                                                  \n",
       "0           English Teacher Abroad                                     311\n",
       "            Customer Service Associate                                 146\n",
       "            Graduates: English Teacher Abroad (Conversational)         144\n",
       "            English Teacher Abroad                                      95\n",
       "            Software Engineer                                           86\n",
       "                                                                      ... \n",
       "1           franciscan st. francis health                                1\n",
       "            sales Associate                                              1\n",
       "            software development life cycle                              1\n",
       "            vacancies,nannies,cooks,drivers and housekeepers needed      1\n",
       "            work from home                                               1\n",
       "Name: title, Length: 11290, dtype: int64"
      ]
     },
     "execution_count": 18,
     "metadata": {},
     "output_type": "execute_result"
    }
   ],
   "source": [
    "df[['title','fraudulent']].groupby(['fraudulent'])['title'].value_counts()"
   ]
  },
  {
   "cell_type": "code",
   "execution_count": 19,
   "id": "6ffeb0be",
   "metadata": {},
   "outputs": [
    {
     "data": {
      "text/html": [
       "<div>\n",
       "<style scoped>\n",
       "    .dataframe tbody tr th:only-of-type {\n",
       "        vertical-align: middle;\n",
       "    }\n",
       "\n",
       "    .dataframe tbody tr th {\n",
       "        vertical-align: top;\n",
       "    }\n",
       "\n",
       "    .dataframe thead th {\n",
       "        text-align: right;\n",
       "    }\n",
       "</style>\n",
       "<table border=\"1\" class=\"dataframe\">\n",
       "  <thead>\n",
       "    <tr style=\"text-align: right;\">\n",
       "      <th></th>\n",
       "      <th>industry</th>\n",
       "      <th>fraudulent</th>\n",
       "    </tr>\n",
       "  </thead>\n",
       "  <tbody>\n",
       "    <tr>\n",
       "      <th>0</th>\n",
       "      <td></td>\n",
       "      <td>275</td>\n",
       "    </tr>\n",
       "    <tr>\n",
       "      <th>49</th>\n",
       "      <td>Oil &amp; Energy</td>\n",
       "      <td>109</td>\n",
       "    </tr>\n",
       "    <tr>\n",
       "      <th>1</th>\n",
       "      <td>Accounting</td>\n",
       "      <td>57</td>\n",
       "    </tr>\n",
       "    <tr>\n",
       "      <th>32</th>\n",
       "      <td>Hospital &amp; Health Care</td>\n",
       "      <td>51</td>\n",
       "    </tr>\n",
       "    <tr>\n",
       "      <th>43</th>\n",
       "      <td>Marketing and Advertising</td>\n",
       "      <td>45</td>\n",
       "    </tr>\n",
       "    <tr>\n",
       "      <th>29</th>\n",
       "      <td>Financial Services</td>\n",
       "      <td>35</td>\n",
       "    </tr>\n",
       "    <tr>\n",
       "      <th>36</th>\n",
       "      <td>Information Technology and Services</td>\n",
       "      <td>32</td>\n",
       "    </tr>\n",
       "    <tr>\n",
       "      <th>58</th>\n",
       "      <td>Telecommunications</td>\n",
       "      <td>26</td>\n",
       "    </tr>\n",
       "    <tr>\n",
       "      <th>19</th>\n",
       "      <td>Consumer Services</td>\n",
       "      <td>24</td>\n",
       "    </tr>\n",
       "    <tr>\n",
       "      <th>54</th>\n",
       "      <td>Real Estate</td>\n",
       "      <td>24</td>\n",
       "    </tr>\n",
       "  </tbody>\n",
       "</table>\n",
       "</div>"
      ],
      "text/plain": [
       "                               industry  fraudulent\n",
       "0                                               275\n",
       "49                         Oil & Energy         109\n",
       "1                            Accounting          57\n",
       "32               Hospital & Health Care          51\n",
       "43            Marketing and Advertising          45\n",
       "29                   Financial Services          35\n",
       "36  Information Technology and Services          32\n",
       "58                   Telecommunications          26\n",
       "19                    Consumer Services          24\n",
       "54                          Real Estate          24"
      ]
     },
     "execution_count": 19,
     "metadata": {},
     "output_type": "execute_result"
    }
   ],
   "source": [
    "#Industry Having most number of fake jobs\n",
    "df_fraud = df[df['fraudulent']==1]\n",
    "df_fraud[['fraudulent','industry']].groupby(['industry']).sum().reset_index().sort_values(by='fraudulent',ascending = False).head(10)"
   ]
  },
  {
   "cell_type": "code",
   "execution_count": 20,
   "id": "33e1e535",
   "metadata": {},
   "outputs": [
    {
     "data": {
      "image/png": "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\n",
      "text/plain": [
       "<Figure size 720x432 with 1 Axes>"
      ]
     },
     "metadata": {
      "needs_background": "light"
     },
     "output_type": "display_data"
    }
   ],
   "source": [
    "most_fraud_industry =df_fraud[['fraudulent','industry']].groupby(['industry']).sum().reset_index().sort_values(by='fraudulent',ascending = False).head(10)[1:]\n",
    "x = most_fraud_industry['industry']\n",
    "y= most_fraud_industry['fraudulent']\n",
    "plt.figure(figsize=(10, 6))\n",
    "plt.barh(x,y)\n",
    "plt.xlabel('Fraud count')\n",
    "plt.ylabel('Industry')\n",
    "plt.title('Top Most Fraud Industry')\n",
    "plt.show()"
   ]
  },
  {
   "cell_type": "code",
   "execution_count": 21,
   "id": "0398e203",
   "metadata": {},
   "outputs": [
    {
     "data": {
      "image/png": "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\n",
      "text/plain": [
       "<Figure size 576x576 with 1 Axes>"
      ]
     },
     "metadata": {},
     "output_type": "display_data"
    }
   ],
   "source": [
    "# Top 10 most common job titles\n",
    "job_title_counts = df['title'].value_counts().head(10)  \n",
    "job_title_counts.plot(kind='pie', autopct='%1.1f%%', figsize=(8, 8))\n",
    "plt.ylabel('')\n",
    "plt.title('Top 10 Most Common Job Titles')\n",
    "plt.show()"
   ]
  },
  {
   "cell_type": "code",
   "execution_count": 22,
   "id": "0f284707",
   "metadata": {},
   "outputs": [
    {
     "data": {
      "text/plain": [
       "Engineering                                    46\n",
       "Clerical                                       27\n",
       "Oil & Energy                                   24\n",
       "Information Technology                         15\n",
       "Administrative                                 14\n",
       "                                               ..\n",
       "Administration                                  1\n",
       "Commercial Management / Contract Management     1\n",
       "Engineering - Construction                      1\n",
       "Recruiting                                      1\n",
       "Sales and Marketing                             1\n",
       "Name: department, Length: 103, dtype: int64"
      ]
     },
     "execution_count": 22,
     "metadata": {},
     "output_type": "execute_result"
    }
   ],
   "source": [
    "#Most Number of Fake Jobs Department\n",
    "df[df['fraudulent']==1]['department'].value_counts()[1:]"
   ]
  },
  {
   "cell_type": "code",
   "execution_count": 23,
   "id": "feca6948",
   "metadata": {},
   "outputs": [
    {
     "data": {
      "image/png": "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\n",
      "text/plain": [
       "<Figure size 720x432 with 1 Axes>"
      ]
     },
     "metadata": {
      "needs_background": "light"
     },
     "output_type": "display_data"
    }
   ],
   "source": [
    "most_fakes_job = df[df['fraudulent']==1]['department'].value_counts()[1:11]\n",
    "most_fakes_job.plot(kind='bar', figsize=(10, 6))\n",
    "plt.xlabel('Job Title')\n",
    "plt.ylabel('Frequency')\n",
    "plt.title('Top 10 Most Fake Job Profile')\n",
    "plt.xticks(rotation=45)\n",
    "plt.show()"
   ]
  },
  {
   "cell_type": "markdown",
   "id": "400774a6",
   "metadata": {},
   "source": [
    "It was observed that the highest number of fake job profiles originate from the **Engineering** department."
   ]
  },
  {
   "cell_type": "code",
   "execution_count": 24,
   "id": "65278199",
   "metadata": {},
   "outputs": [
    {
     "name": "stdout",
     "output_type": "stream",
     "text": [
      "Top 3 most common words in Company Profile:\n",
      "team: 7170\n",
      "work: 6920\n",
      "company: 6790\n"
     ]
    }
   ],
   "source": [
    "def process_text(text):\n",
    "    words = nltk.word_tokenize(text)\n",
    "    words = [word.lower() for word in words if word.isalnum() and word.lower() not in stop_words]\n",
    "    return words\n",
    "\n",
    "df['profile'] = df['company_profile'].apply(process_text)\n",
    "\n",
    "# Count word frequencies\n",
    "word_freq = Counter()\n",
    "for text in df['profile']:\n",
    "    word_freq.update(text)\n",
    "\n",
    "# Find the top 3 most common words\n",
    "top_words = word_freq.most_common(3)\n",
    "\n",
    "print(\"Top 3 most common words in Company Profile:\")\n",
    "for word, freq in top_words:\n",
    "    print(f\"{word}: {freq}\")"
   ]
  },
  {
   "cell_type": "code",
   "execution_count": 25,
   "id": "1b4fedd1",
   "metadata": {},
   "outputs": [],
   "source": [
    "columns_to_drop = ['profile']\n",
    "df.drop(columns=columns_to_drop, inplace=True)"
   ]
  },
  {
   "cell_type": "code",
   "execution_count": 26,
   "id": "cc1439bd",
   "metadata": {
    "scrolled": true
   },
   "outputs": [
    {
     "data": {
      "text/html": [
       "<div>\n",
       "<style scoped>\n",
       "    .dataframe tbody tr th:only-of-type {\n",
       "        vertical-align: middle;\n",
       "    }\n",
       "\n",
       "    .dataframe tbody tr th {\n",
       "        vertical-align: top;\n",
       "    }\n",
       "\n",
       "    .dataframe thead th {\n",
       "        text-align: right;\n",
       "    }\n",
       "</style>\n",
       "<table border=\"1\" class=\"dataframe\">\n",
       "  <thead>\n",
       "    <tr style=\"text-align: right;\">\n",
       "      <th></th>\n",
       "      <th>job_id</th>\n",
       "      <th>title</th>\n",
       "      <th>location</th>\n",
       "      <th>department</th>\n",
       "      <th>salary_range</th>\n",
       "      <th>company_profile</th>\n",
       "      <th>description</th>\n",
       "      <th>requirements</th>\n",
       "      <th>benefits</th>\n",
       "      <th>telecommuting</th>\n",
       "      <th>has_company_logo</th>\n",
       "      <th>has_questions</th>\n",
       "      <th>employment_type</th>\n",
       "      <th>required_experience</th>\n",
       "      <th>required_education</th>\n",
       "      <th>industry</th>\n",
       "      <th>function</th>\n",
       "      <th>fraudulent</th>\n",
       "      <th>country</th>\n",
       "    </tr>\n",
       "  </thead>\n",
       "  <tbody>\n",
       "    <tr>\n",
       "      <th>0</th>\n",
       "      <td>1</td>\n",
       "      <td>Marketing Intern</td>\n",
       "      <td>US, NY, New York</td>\n",
       "      <td>Marketing</td>\n",
       "      <td>0</td>\n",
       "      <td>We're Food52, and we've created a groundbreaki...</td>\n",
       "      <td>Food52, a fast-growing, James Beard Award-winn...</td>\n",
       "      <td>Experience with content management systems a m...</td>\n",
       "      <td></td>\n",
       "      <td>0</td>\n",
       "      <td>1</td>\n",
       "      <td>0</td>\n",
       "      <td>Other</td>\n",
       "      <td>Internship</td>\n",
       "      <td></td>\n",
       "      <td></td>\n",
       "      <td>Marketing</td>\n",
       "      <td>0</td>\n",
       "      <td>US</td>\n",
       "    </tr>\n",
       "    <tr>\n",
       "      <th>1</th>\n",
       "      <td>2</td>\n",
       "      <td>Customer Service - Cloud Video Production</td>\n",
       "      <td>NZ, , Auckland</td>\n",
       "      <td>Success</td>\n",
       "      <td>0</td>\n",
       "      <td>90 Seconds, the worlds Cloud Video Production ...</td>\n",
       "      <td>Organised - Focused - Vibrant - Awesome!Do you...</td>\n",
       "      <td>What we expect from you:Your key responsibilit...</td>\n",
       "      <td>What you will get from usThrough being part of...</td>\n",
       "      <td>0</td>\n",
       "      <td>1</td>\n",
       "      <td>0</td>\n",
       "      <td>Full-time</td>\n",
       "      <td>Not Applicable</td>\n",
       "      <td></td>\n",
       "      <td>Marketing and Advertising</td>\n",
       "      <td>Customer Service</td>\n",
       "      <td>0</td>\n",
       "      <td>NZ</td>\n",
       "    </tr>\n",
       "  </tbody>\n",
       "</table>\n",
       "</div>"
      ],
      "text/plain": [
       "   job_id                                      title          location  \\\n",
       "0       1                           Marketing Intern  US, NY, New York   \n",
       "1       2  Customer Service - Cloud Video Production    NZ, , Auckland   \n",
       "\n",
       "  department  salary_range                                    company_profile  \\\n",
       "0  Marketing             0  We're Food52, and we've created a groundbreaki...   \n",
       "1    Success             0  90 Seconds, the worlds Cloud Video Production ...   \n",
       "\n",
       "                                         description  \\\n",
       "0  Food52, a fast-growing, James Beard Award-winn...   \n",
       "1  Organised - Focused - Vibrant - Awesome!Do you...   \n",
       "\n",
       "                                        requirements  \\\n",
       "0  Experience with content management systems a m...   \n",
       "1  What we expect from you:Your key responsibilit...   \n",
       "\n",
       "                                            benefits  telecommuting  \\\n",
       "0                                                                 0   \n",
       "1  What you will get from usThrough being part of...              0   \n",
       "\n",
       "   has_company_logo  has_questions employment_type required_experience  \\\n",
       "0                 1              0           Other          Internship   \n",
       "1                 1              0       Full-time      Not Applicable   \n",
       "\n",
       "  required_education                   industry          function  fraudulent  \\\n",
       "0                                                       Marketing           0   \n",
       "1                     Marketing and Advertising  Customer Service           0   \n",
       "\n",
       "  country  \n",
       "0      US  \n",
       "1      NZ  "
      ]
     },
     "execution_count": 26,
     "metadata": {},
     "output_type": "execute_result"
    }
   ],
   "source": [
    "df.head(2)"
   ]
  },
  {
   "cell_type": "code",
   "execution_count": 27,
   "id": "facd5264",
   "metadata": {},
   "outputs": [],
   "source": [
    "UK_job = df[(df['location'].str.contains(r'\\bUK\\b', case=False, na=False) | df['location'].str.contains('United Kingdom', case=False, na=False))]"
   ]
  },
  {
   "cell_type": "code",
   "execution_count": 28,
   "id": "02362167",
   "metadata": {},
   "outputs": [
    {
     "name": "stdout",
     "output_type": "stream",
     "text": [
      "The department or function with the highest-paying jobs in the UK is: Marketing\n"
     ]
    }
   ],
   "source": [
    "highest_paid_department = UK_job.loc[UK_job['salary_range'].idxmax()]['department']\n",
    "print(f\"The department or function with the highest-paying jobs in the UK is: {highest_paid_department}\")"
   ]
  },
  {
   "cell_type": "code",
   "execution_count": 29,
   "id": "3c8fe23a",
   "metadata": {},
   "outputs": [
    {
     "data": {
      "text/plain": [
       "department      Danone - Sari Husada\n",
       "function                       Sales\n",
       "location             ID, JW, Jakarta\n",
       "salary_range               800000000\n",
       "Name: 3139, dtype: object"
      ]
     },
     "execution_count": 29,
     "metadata": {},
     "output_type": "execute_result"
    }
   ],
   "source": [
    "df.loc[df['salary_range'].idxmax()][['department','function','location','salary_range']]"
   ]
  },
  {
   "cell_type": "markdown",
   "id": "73825343",
   "metadata": {},
   "source": [
    "**Machine Learning Modelling**"
   ]
  },
  {
   "cell_type": "code",
   "execution_count": 30,
   "id": "b1e12183",
   "metadata": {},
   "outputs": [],
   "source": [
    "#Combining the all columns into the single Text\n",
    "df['text'] = df['title'] + ' ' + df['location'] + ' ' + df['department'] + ' ' + df['company_profile'] + ' ' + df['description'] + ' ' + df['requirements'] + ' ' + df['benefits'] + ' ' + df['employment_type'] + ' ' + df['required_education'] + ' ' + df['industry'] + ' ' + df['function']"
   ]
  },
  {
   "cell_type": "code",
   "execution_count": 31,
   "id": "4448488c",
   "metadata": {},
   "outputs": [],
   "source": [
    "df['text'] = df['text'].str.lower()\n",
    "\n",
    "df['text'] = df['text'].apply(lambda x: ' '.join([word for word in x.split() if word not in stop_words]))\n",
    "data = df[['fraudulent','text']]"
   ]
  },
  {
   "cell_type": "code",
   "execution_count": 32,
   "id": "1ba5bdd2",
   "metadata": {},
   "outputs": [],
   "source": [
    "from sklearn.utils import resample\n",
    "\n",
    "# Separate the majority and minority classes\n",
    "majority_class = data[data['fraudulent'] == 0]\n",
    "minority_class = data[data['fraudulent'] == 1]\n",
    "\n",
    "# Determine the number of samples to randomly select (e.g., same as the minority class size)\n",
    "desired_sample_size = len(minority_class)\n",
    "\n",
    "# Randomly sample the majority class to match the desired size\n",
    "majority_sampled = resample(majority_class, replace=False, n_samples=desired_sample_size, random_state=42)\n",
    "\n",
    "# Combine the minority class and the randomly sampled majority class\n",
    "balanced_df = pd.concat([minority_class, majority_sampled])"
   ]
  },
  {
   "cell_type": "code",
   "execution_count": 33,
   "id": "7cac5367",
   "metadata": {},
   "outputs": [
    {
     "data": {
      "image/png": "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\n",
      "text/plain": [
       "<Figure size 432x432 with 1 Axes>"
      ]
     },
     "metadata": {},
     "output_type": "display_data"
    }
   ],
   "source": [
    "fraudulent_counts = balanced_df['fraudulent'].value_counts()\n",
    "\n",
    "plt.figure(figsize=(6, 6)) \n",
    "plt.pie(fraudulent_counts, labels=['Non-Fraudulent', 'Fraudulent'], autopct='%1.1f%%', startangle=90)\n",
    "plt.title('Class Distribution in balanced_df')\n",
    "\n",
    "# Show the chart\n",
    "plt.show()"
   ]
  },
  {
   "cell_type": "code",
   "execution_count": 34,
   "id": "26d3a468",
   "metadata": {},
   "outputs": [],
   "source": [
    "# Split the balanced dataset into features (X) and target (y)\n",
    "X = balanced_df['text']\n",
    "y = balanced_df['fraudulent']"
   ]
  },
  {
   "cell_type": "code",
   "execution_count": 35,
   "id": "c52b0804",
   "metadata": {},
   "outputs": [],
   "source": [
    "# Split the data into training and testing sets\n",
    "X_train, X_test, y_train, y_test = train_test_split(X, y, test_size=0.20, random_state=42)"
   ]
  },
  {
   "cell_type": "code",
   "execution_count": 36,
   "id": "6397de95",
   "metadata": {},
   "outputs": [],
   "source": [
    "# Creating a TF-IDF vectorizer\n",
    "vectorizer = TfidfVectorizer(strip_accents='unicode',\n",
    "                             analyzer='word',\n",
    "                             ngram_range=(1, 2),\n",
    "                             max_features=15000,\n",
    "                             smooth_idf=True,\n",
    "                             sublinear_tf=True)"
   ]
  },
  {
   "cell_type": "code",
   "execution_count": 37,
   "id": "31161a68",
   "metadata": {
    "scrolled": false
   },
   "outputs": [
    {
     "name": "stdout",
     "output_type": "stream",
     "text": [
      "Classifier: Logistic Regression\n",
      "Accuracy: 0.9020172910662824\n",
      "\n",
      "Classification Report:\n",
      "              precision    recall  f1-score   support\n",
      "\n",
      "           0       0.86      0.95      0.90       165\n",
      "           1       0.95      0.86      0.90       182\n",
      "\n",
      "    accuracy                           0.90       347\n",
      "   macro avg       0.90      0.90      0.90       347\n",
      "weighted avg       0.91      0.90      0.90       347\n",
      "\n"
     ]
    },
    {
     "data": {
      "image/png": "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\n",
      "text/plain": [
       "<Figure size 576x432 with 2 Axes>"
      ]
     },
     "metadata": {
      "needs_background": "light"
     },
     "output_type": "display_data"
    },
    {
     "name": "stdout",
     "output_type": "stream",
     "text": [
      "Classifier: Random Forest\n",
      "Accuracy: 0.8933717579250721\n",
      "\n",
      "Classification Report:\n",
      "              precision    recall  f1-score   support\n",
      "\n",
      "           0       0.85      0.95      0.89       165\n",
      "           1       0.94      0.85      0.89       182\n",
      "\n",
      "    accuracy                           0.89       347\n",
      "   macro avg       0.90      0.90      0.89       347\n",
      "weighted avg       0.90      0.89      0.89       347\n",
      "\n"
     ]
    },
    {
     "data": {
      "image/png": "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\n",
      "text/plain": [
       "<Figure size 576x432 with 2 Axes>"
      ]
     },
     "metadata": {
      "needs_background": "light"
     },
     "output_type": "display_data"
    },
    {
     "name": "stdout",
     "output_type": "stream",
     "text": [
      "Classifier: Decision Tree\n",
      "Accuracy: 0.7982708933717579\n",
      "\n",
      "Classification Report:\n",
      "              precision    recall  f1-score   support\n",
      "\n",
      "           0       0.77      0.82      0.79       165\n",
      "           1       0.83      0.78      0.80       182\n",
      "\n",
      "    accuracy                           0.80       347\n",
      "   macro avg       0.80      0.80      0.80       347\n",
      "weighted avg       0.80      0.80      0.80       347\n",
      "\n"
     ]
    },
    {
     "data": {
      "image/png": "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\n",
      "text/plain": [
       "<Figure size 576x432 with 2 Axes>"
      ]
     },
     "metadata": {
      "needs_background": "light"
     },
     "output_type": "display_data"
    },
    {
     "name": "stdout",
     "output_type": "stream",
     "text": [
      "Classifier: Support Vector Classifier\n",
      "Accuracy: 0.9135446685878963\n",
      "\n",
      "Classification Report:\n",
      "              precision    recall  f1-score   support\n",
      "\n",
      "           0       0.87      0.96      0.91       165\n",
      "           1       0.96      0.87      0.91       182\n",
      "\n",
      "    accuracy                           0.91       347\n",
      "   macro avg       0.92      0.92      0.91       347\n",
      "weighted avg       0.92      0.91      0.91       347\n",
      "\n"
     ]
    },
    {
     "data": {
      "image/png": "iVBORw0KGgoAAAANSUhEUgAAAdMAAAGDCAYAAABwcPpaAAAAOXRFWHRTb2Z0d2FyZQBNYXRwbG90bGliIHZlcnNpb24zLjUuMSwgaHR0cHM6Ly9tYXRwbG90bGliLm9yZy/YYfK9AAAACXBIWXMAAAsTAAALEwEAmpwYAAAvaklEQVR4nO3debwVdf3H8df7ggouqIALKogWamhmuVSahku5puZuWmoW+ss0l3JJyy3LstwrpUxJyVxyT1Mj0TSXwH3XUhFBUEFFJBX4/P6Y78Xheu89lzvMnXsO7yePedxzvjNnvt85Zzif8/3Od75fRQRmZmbWeU1VF8DMzKzeOZiamZkV5GBqZmZWkIOpmZlZQQ6mZmZmBTmYmpmZFeRgWqck9ZZ0o6S3JF1VYD/7SLptQZatCpJukbRf1eWwriFpf0l3l7j/ec4nST+R9LqkVyUNkvSOpB5l5W/1x8G0ZJK+Jmls+s83Kf0n/cIC2PVuwApAv4jYvbM7iYhREfHlBVCeeUgaJikkXdMi/VMpfUwH93OSpMtqbRcR20bEyE4Wt1YZDpT0tKTpkiZL+qukpcrIq4ha75WkWyWd0kr6TilI9OxkvpdI+klnXltjv1tLuiu9769JulPSjgs6n9bkzydJA4GjgKERsWJEjI+IJSNidleUxeqDg2mJJB0JnA38lCzwDQJ+A+y0AHa/KvBsRMxaAPsqy2vAxpL65dL2A55dUBkoU9p5LOmLZJ/f3hGxFPAJ4Mqy8uusDgbCS4CvS1KL9K8Do6o6l1qr4UnaDbgK+COwCtn/nx8DX+na0gHZ/7U3ImJK0R119geL1YGI8FLCAiwNvAPs3s42i5EF24lpORtYLK0bBkwg+0U8BZgEHJDWnQy8D3yQ8jgQOAm4LLfvwUAAPdPz/YH/AtOBF4B9cul35163MfBv4K30d+PcujHAqcA9aT+3Af3bOLbm8l8AHJLSeqS0HwNjctueA7wMvA2MAzZN6du0OM5HcuU4LZVjJvDxlPattP63wNW5/f8cGA2oE5/j94Hr2lk/N9823s8ADkvv/evAGUBTbtt7gPPS+/00sGXutSsBNwBTgeeBb+fWnQRcDVyW3rfvtvZetShr75TPZrm0ZYH/AZ8i+3F9LPAf4A2yHw19c9t+AfgX8Gb6vPYHhqc830/53pi2/UR6b94EngB2zO3nkvQZ3QzMALZqUU4B44EftPO+t3yfWz2H0rqNgLFp3WTgzJTeK71/b6Ry/htYIf+5AluRnWNz0vFdwkf/by0NXET2f/QV4CdAjxaf8Vnpc/xJ1d9NXspZKi9Aoy5kgWBW83+4NrY5BbgPWB5YLn1RnZrWDUuvPwVYBNgOeBdYNq0/iXmDZ8vnc//DA0ukL5I107oBwNrp8dwvJaAvMI2sptIT2Ds975fWjyH7ol2D7It5DHB6G8c2jCxwbgzcn9K2A25NX1JjctvuC/RLeR4FvAr0au24cuUYD6ydXrMI8wbTxclqv/sDm5IFsVU6+Tlumr5MTwY2If3YaVGWWsH0jvTeDkrl+lZu21nAEekY9iQLdn3T+jvJWjJ6AeuR1fS3zL0vHwA7kwXB3q29V60cz++A3+eeHwQ8nB4fTnY+rkL2Q+9C4PK0bhDZD6i9U1n7AeuldZeQCxJp/fPAD4FFgS3Sa9fMbf9Wej+bmj/r3OvXSu/bau0cR8v3ub1z6F7g6+nxksDncsd+YzpfegDrA31afq6kc7m1/1vp+XXpvVqC7P/yA8BBLT7jQ1PZelf93eSlnMXNvOXpB7we7Ted7QOcEhFTIuI1si/sr+fWf5DWfxARN5P9Ml6zk+WZA6wjqXdETIqIJ1rZZnvguYi4NCJmRcTlZLWlfNPaxRHxbETMJKu5rNdephHxL6CvpDWBb5A127Xc5rKIeCPl+SuyL/Jax3lJRDyRXvNBi/29S/bleiZZzePQiJhQY39tlf+fwC7AZ4C/Am9IOnM+O5/8PCKmRsR4staHvXPrpgBnp8/4CuAZYPt0ne4LwDER8b+IeBj4PfOeH/dGxHURMSd9Hh0xEthdUu/0/BspDbLgcnxETIiI98iC826paXIf4O8RcXkq6xupTK35HFnQOj0i3o+IfwA3tTju6yPinlT2/7V4ffNlgUkdPKZa59AHwMcl9Y+IdyLivlx6P+DjETE7IsZFxNsdzRNA0grAtsDhETEjsqbgs4C9cptNjIjzUtk6+jlZnXEwLc8bQP8a10hWAl7KPX8ppc3dR4tg/C7Zl9R8iYgZZLWeg4FJqQPNWh0oT3OZVs49f7UT5bmUrBlyc+DalislHSXpqdQz+U2yZrP+Nfb5cnsrI+IBsqZV0c41TklPpM5h70jatI193RIRXyGrXe5EVtv4Vo3ytVXWlp/xKxERraxfCZgaEdNbrMt/Fu2+B62JiLvJarg7SVod2BD4U1q9KnCtpDfT5/AUMJvseuVAslaJjlgJeDki5nSy7G+kvwM6mF+tc+hAstaUpyX9W9IOKf1SspaSP0uaKOkXkhbpaJ7JqmQ18Um59+1Cshpqs/n+nKz+OJiW516ya1E7t7PNRLL/jM0GpbTOmEHWXNVsxfzKiLg1Ir5E9gX1NFlzX63yNJfplU6WqdmlwHeAm1Otca4UwI4B9iBrwl6GrAmwuZNMW9MatTvdkaRDyGonE4Gj29ouItaOrGfmkqkW2qZUixoN/ANYJyW3+74nA3OPW37GK7foENS8fiJZjX6pFuvyn0XL96CjU0D9kaxG+nXgtoiYnNJfBraNiGVyS6+IeCWt+1gb+2uZ70RgYIuOYbXKnvdMym/XjhxMrXMoIp6LiL3JAtzPgaslLZFq2CdHxFCyyxE7kL0v8+Nl4D2yvgPN71mfiFg7t42n5loIOJiWJCLeIuto82tJO0taXNIikraV9Iu02eXACZKWk9Q/bV/zNpA2PAxslu6BWxo4rnmFpBUk7ShpCbL/+O+Q1ThauhlYI93O01PSnsBQsia6TouIF4AvAse3snopsmtKrwE9Jf0Y6JNbPxkYPD89diWtQdYJZF+ygHG0pPU6U/Z028hekpZNPYc3SsfS3FT4MLBL+nw/TlYLaukH6fUDge8BV+TWLQ8cls6N3ck67twcES+TXUP/maRektZN+x7VTnE7+l79kaxjzbf5sIkXss5ip0laNR37cpKae56PAraStEc6N/rl3tPJwOq5/dxP9iPj6HRcw8guFfy5RrkASDX1I4EfSTpAUh9JTZK+IGlEKy9p9xyStK+k5VJN+c2UPFvS5pI+mZrs3yZr9p2v210iYhJZR7xf5cr5sdQL3BYiDqYliogzyb4UTiD7j/4yWXPndWmTn5D1MnwUeAx4MKV1Jq/byb6kHyXrzZgPgE1knTImkvUo/CJZTbHlPt4g+3V+FFlT29HADhHxemfK1GLfd0dEa7XuW4FbyDrmvERWm883izUPSPGGpAdr5ZOa1S8ju075SEQ8R9YR5lJJi3Wi6NPIgs5zZF+4lwFnRERzUDuLrCfrZLLA1Fqwu57sM3mY7LrrRbl19wNDyDpJnQbslj4HyK4xDib73K4FTkyfc1s69F5FxItkgXoJst7Czc5Jz2+TNJ3sB8Nn02vGk3UgO4rsHHqYrAcw6XiGpmbO6yLifWBHsmuJr5N1ovpGRDzdTtlblvFqsksT3yQ7/slk/zeub2XzWufQNsATkt5Jx7hXuk67IlmP6LfJmrTvpHM/Zr9B1tHqSbLz5Wrmo4naGoPmvVxjZguSpACGRMTzrazbn6zH6IIYxMPMKuSaqZmZWUEOpmZmZgW5mdfMzKwg10zNzMwKcjA1MzMrqNvOYND7M4e5/dkawrQHzq26CGaF9eqJam/VOb0//d1C3/czHzq/tLJ1VLcNpmZmtpAobxbFLuNgamZm1frIFLv1x8HUzMyq1QA10/o/AjMzs4q5ZmpmZtVyM6+ZmVlBDdDM62BqZmbVaoCaaf3/HDAzM6uYa6ZmZlYtN/OamZkV1ADNvA6mZmZWLddMzczMCmqAmmn9/xwwMzOrmGumZmZWLTfzmpmZFdQAzbwOpmZmVi3XTM3MzApqgGBa/0dgZmZWMddMzcysWk2+ZmpmZlZMAzTzOpiamVm1GqA3b/3/HDAzM6uYa6ZmZlYtN/OamZkV1ADNvA6mZmZWLddMzczMCmqAmmn9/xwwMzOrmGumZmZWLTfzmpmZFdQAzbwOpmZmVi3XTM3MzApqgJpp/f8cMDMzq5hrpmZmVi0385qZmRXkYGpmZlaQr5mamZmZg6mZmVVLTcWWWruX/iBpiqTHW1n3fUkhqX8u7ThJz0t6RtLWHTkEB1MzM6uWVGyp7RJgm49mq4HAl4DxubShwF7A2uk1v5HUo1YGDqZmZlatkmumEXEXMLWVVWcBRwORS9sJ+HNEvBcRLwDPAxvVysPB1MzMqlWwZippuKSxuWV47Sy1I/BKRDzSYtXKwMu55xNSWrvcm9fMzOpaRIwARnR0e0mLA8cDX25tdWtZ1Nqng6mZmVVKXX9rzMeA1YBHUt6rAA9K2oisJjowt+0qwMRaO3QwNTOzSnV1MI2Ix4Dlc/m/CGwQEa9LugH4k6QzgZWAIcADtfbpa6ZmZlYtFVxq7V66HLgXWFPSBEkHtrVtRDwBXAk8CfwNOCQiZtfKo9SaqaTREbFlrTQzM7OyRMTeNdYPbvH8NOC0+cmjlGAqqRewONBf0rJ8+NuhD1m12czMDKjkmukCV1bN9CDgcLLAOY4Pg+nbwK9LytPMzOqQg2kbIuIc4BxJh0bEeWXkYWZmjcHBtIaIOE/SxsDgfF4R8ccy8zUzs/rhYFqDpEvJ7ud5GGjuDRWAg6mZmTWMsu8z3QAYGhE1R48wM7OFVP1XTEsPpo8DKwKTSs7HzMzqlJt5a+sPPCnpAeC95sSI2LHkfM3MrE44mNZ2Usn7NzOzOudgWkNE3ClpVWBIRPw9jdRfc5JVMzOzelLq2LySvg1cDVyYklYGriszTzMzqy/K5iTt9NIdlD3Q/SHAJmQjHxERz5Ebqd/MzKzsge67QtnXTN+LiPebfzlI6kkHJlk1M7OFR3epXRZRds30Tkk/BHpL+hJwFXBjyXmamZl1qbKD6bHAa8BjZIPf3wycUHKeZmZWRxrhmmnZvXnnAL9Li5mZ2Ud0l4BYRFnzmT5GO9dGI2LdMvI1M7M6VP+xtLSa6Q4l7dfMzBqMa6ZtiIiXytivmZlZd1T2FGzT+bC5d1FgEWBGRPQpM18zM6sfrpnWEBFL5Z9L2hnYqMw8zcysvjRCMC371ph5RMR1wBZdmaeZmXVvvjWmBkm75J42kU0W7hGQzMzsQ90jHhZS9nCCX8k9ngW8COxUcp5mZmZdquxrpgeUuX8zM6t/3aWptoiyBm04j/YHbTisjHzNzKz+NEIwLasD0lhgHNAL+AzwXFrWA2aXlKeZmdUhd0BqQ0SMBJC0P7B5RHyQnl8A3FZGnmZmZlUp+9aYlYD8vaZLpjQzM7OMJwev6XTgIUl3pOdfBE4qOU8zM6sj3aWptoiye/NeLOkW4LMp6diIeLXMPM3MrL44mNYgabP0cFr6u4akNSLirjLztcwFJ36NbTddm9emTmeDPU4H4PiDtuWbX/08r017B4ATz7+JW+95kp49m/jtj/ZmvbUG0rNnE6Nu+je/vPj2KotvVtOLL/yXo486Yu7zCRNe5jvfPYx9v7F/dYWy+eZgWtsPco97kY3LOw4PKdglLr3xfi644i5+f8q+86SfN2oMZ1/6j3nSdt3q0yy2aE823PN0evdahIeu/iFX/m0c4ydN7coim82XwautzpXXXA/A7Nmz+dLmm7HFVl+quFS2MCq7mTc/AhKSBgK/KDNP+9A9D/6HQQP6dmjbiGDx3ovRo0cTvRdbhPc/mM30Gf8ruYRmC879993LwIEDWWmllasuis2nRqiZdulA98AEYJ0uztNaOHjPTXngimO44MSvscxSvQG4ZvTDvDvzPV647Sc8e/PJnH3pP5j29rsVl9Ss4/52y1/ZZrsdqi6GdUbJvXkl/UHSFEmP59LOkPS0pEclXStpmdy64yQ9L+kZSVt35BBKDaaSzpN0blrOB/4JPNLO9sMljZU0dtbrj7e1mRXwu6vuZuiOp/DZvX7Bq6+/xelHfhWADddeldmzg9W3PoFP7HAy39t3cwav3K/i0pp1zAfvv8+dd/yDL2+9TdVFsU7ogkEbLgFanhy3A+tExLrAs8BxqSxDgb2AtdNrfiOpR60Myq6ZNo+ENA64FzgmIvZta+OIGBERG0TEBj37uwJbhilTpzNnThAR/OGae9lg7UEA7LHtBtx271PMmjWH16a9w72PvMD6QwdVXFqzjrn77rtYa+ja9Ovfv+qiWCeUHUxTp9epLdJui4hZ6el9wCrp8U7AnyPivYh4AXieDszDXWowjYiRuWVURNxTZn5W24r9+8x9vNMW6/LkfyYBMGHSNIZtOASAxXstykafHMwzL06upIxm8+uWm//KttttX3UxrCL5Vs20DJ/PXXwTuCU9Xhl4ObduQkprV9m3xgwBfgYMJevNC0BErF5mvpYZ+dP92HT9j9N/mSV5/pZTOPWCm9lsgyGsu8bKBMFLE6dy6GlXAHDBlXcx4qR9GHfVcUji0hvu4/HnJlZ8BGa1zZw5k/v+9S9+dOIpVRfFOqlo/6OIGAGM6FzeOp5sitBRzUmtZVFrP2XfGnMxcCJwFrA5cADdZvCnxrffD0d+JG3k9fe1uu2Mme+zzzEXl10kswWud+/e3PWv+6suhhVQVW9eSfsBOwBbRkRzwJwADMxttgpQs2ZR9jXT3hExGlBEvBQRJ+F7TM3MLEcqtnQuT20DHAPsGBH5WxduAPaStJik1YAhwAO19ld2zfR/kpqA5yR9F3gFWL7kPM3MzOaSdDkwDOgvaQJZi+lxwGLA7almfF9EHBwRT0i6EniSrPn3kIioOXVo2cH0cGBx4DDgVLKm3v1KztPMzOpI2c28EbF3K8kXtbP9acBp85NHacE03ZezR0T8AHiH7HqpmZnZPBpgAKTygmlEzJa0viTlLuyamZnNo6mp/qNp2c28DwHXS7oKmNGcGBHXlJyvmZnVCddMa+sLvMG8PXgDcDA1M7OGUUowlfTTiPhhRBwg6UsR4YkxzcysVZ41pm35AYV/XlIeZmbWAKq4z3RBK7uZ18zMrF2NUDMtK5guL+lIsqEDmx/PFRFnlpSvmZnVGQfTtv0OWKqVx2ZmZg2nlGAaESeXsV8zM2s8DVAxLX2g+7kkPdhVeZmZWf0oe3LwrtCVHZC6xxGbmVm30k3iYSFdVjMF/tqFeZmZmXWZLquZRsQJXZWXmZnVj+7SVFtEqTVTSbtIek7SW5LeljRd0ttl5mlmZvXFgzbU9gvgKxHxVMn5mJlZnWqEmmnZwXSyA6mZmbWnAWJp6cF0rKQrgOuA95oTPQWbmZk1krKDaR/gXeDLuTRPwWZmZnO5mbeGiDigzP2bmVn9a4BYWnpv3lUkXStpiqTJkv4iaZUy8zQzs/rSCCMglT1ow8XADcBKwMrAjSnNzMwMaIxbY8oOpstFxMURMSstlwDLlZynmZlZlyo7mL4uaV9JPdKyL/BGyXmamVkdcTNvbd8E9gBeBSYBu6U0MzMzoDGaecvuzTse2LHMPMzMrL51l9plEaUEU0k/bmd1RMSpZeRrZmZWhbJqpjNaSVsCOBDoBziYmpkZ4JppmyLiV82PJS0FfA84APgz8Ku2XmdmZgufBoil5V0zldQXOBLYBxgJfCYippWVn5mZ1SfXTNsg6QxgF2AE8MmIeKeMfMzMrP41QCwt7daYo8hGPToBmJgmBvfk4GZm1pDKumZa9v2rZmbWINzMa2ZmVlADxNLSR0AyMzNrV5NUaKlF0h/S7GWP59L6Srpd0nPp77K5dcdJel7SM5K27tAxdOrIzczMFpAuGE7wEmCbFmnHAqMjYggwOj1H0lBgL2Dt9JrfSOpRKwMHUzMza2gRcRcwtUXyTmS3bZL+7pxL/3NEvBcRLwDPAxvVysPB1MzMKlV01hhJwyWNzS3DO5DtChExCSD9XT6lrwy8nNtuQkprlzsgmZlZpZoKdkCKiBFk4xosCK2VJmq9yMHUzMwqVdGtMZMlDYiISZIGAFNS+gRgYG67VYCJtXbmZl4zM1sY3QDslx7vB1yfS99L0mKSVgOGAA/U2plrpmZmVqmyK6aSLgeGAf0lTQBOBE4HrpR0IDAe2B0gIp6QdCXwJDALOCQiZtfKw8HUzMwqpVYvUy44EbF3G6u2bGP704DT5icPB1MzM6tU0Q5I3YGDqZmZVaoRxuZ1ByQzM7OCXDM1M7NKNUDF1MHUzMyq1ZHB6rs7B1MzM6tUA8RSXzM1MzMryjVTMzOrVCP05nUwNTOzSjVALHUwNTOzarkDkpmZWUH1H0rdAcnMzKww10zNzKxS7oBkZmZWkAe6NzMzK8g1UzMzs4IaIJa6A5KZmVlRrpmamVmlGrqZV9J5QLS1PiIOK6VEZma2UGn0Dkhju6wUZma20GrommlEjOzKgpiZmdWrmtdMJS0HHAMMBXo1p0fEFiWWy8zMFhL1Xy/tWG/eUcBTwGrAycCLwL9LLJOZmS1EmqRCS3fQkWDaLyIuAj6IiDsj4pvA50oul5mZLSSkYkt30JFbYz5IfydJ2h6YCKxSXpHMzGxh0tAdkHJ+Imlp4CjgPKAPcESppTIzM6sjNYNpRNyUHr4FbF5ucczMbGHTABXTDvXmvZhWBm9I107NzMwK6S6diIroSDPvTbnHvYCvkl03NTMzK6wBYmmHmnn/kn8u6XLg76WVyMzMFiqN0AGpM7PGDAEGLeiCmJmZ1auOXDOdzrzXTF8lGxGpVM+NPqPsLMy6xLIbfrfqIpgVNvOh80vbdyPMBdqRZt6luqIgZma2cFoomnklje5ImpmZWWc0qdjSHbQZTCX1ktQX6C9pWUl90zIYWKnLSmhmZlaQpCMkPSHpcUmXN8c4SbdLei79Xbaz+2+vZnoQMA5YK/1tXq4Hft3ZDM3MzPLKrplKWhk4DNggItYBegB7AccCoyNiCDA6Pe+U9uYzPQc4R9KhEXFeZzMwMzNrTxddM+0J9Jb0AbA42XgJxwHD0vqRwBg62cG2I52o5khapvlJavL9TmcyMzMza6lozVTScEljc8vw/P4j4hXgl8B4YBLwVkTcBqwQEZPSNpOA5Tt9DB3Y5tsR8WauUNOAb3c2QzMzs7yiU7BFxIiI2CC3jJh3/1oW2IlsXu6VgCUk7bsgj6EjwbRJuTq4pB7AoguyEGZmZiXaCnghIl6LiA+Aa4CNgcmSBgCkv1M6m0FHxua9FbhS0gVkgzccDNzS2QzNzMzyumCg+/HA5yQtDswEtgTGAjOA/YDT09/rO5tBR4LpMcBw4P8AAQ8BAzqboZmZWV7ZIyBFxP2SrgYeBGaRxbERwJJklcUDyQLu7p3NoyMjIM2RdB+wOrAn0Bf4S/uvMjMz65iu6MwbEScCJ7ZIfo+sllpYm8FU0hpk9+HsDbwBXJEK5AnCzcxsgWn0+UyfBv4JfCUinodsBIkuKZWZmVkdaa+peleyGWLukPQ7SVuSXTM1MzNbYIreGtMdtBlMI+LaiNiTbDjBMcARwAqSfivpy11UPjMza3ANPdB9s4iYERGjImIHYBXgYQqMX2hmZpbXJBVauoP56pEcEVMj4sKI2KKsApmZmdWbjtxnamZmVppuUrksxMHUzMwq1V2uexbhYGpmZpVSA9wo4mBqZmaVaoSaadlDIpqZmTU810zNzKxSjVAzdTA1M7NKqQG68zqYmplZpVwzNTMzK6gBKqbugGRmZlaUa6ZmZlap7jK+bhEOpmZmVilfMzUzMyuoASqmvmZqZmZWlGumZmZWqSaPzWtmZlZMIzTzOpiamVml3AHJzMysoEa4NcYdkMzMzApyzdTMzCrVABVTB1MzM6tWIzTzOpiamVmlGiCWOpiamVm1GqHzTiMcg5mZWaVcMzUzs0qpAdp5HUzNzKxS9R9KHUzNzKxijdCb19dMzczMCnIwNTOzSqng0qE8pGUkXS3paUlPSfq8pL6Sbpf0XPq7bGePwcHUzMwqJRVbOugc4G8RsRbwKeAp4FhgdEQMAUan553iYGpmZpWSVGjpwP77AJsBFwFExPsR8SawEzAybTYS2Lmzx+BgamZmlWoquEgaLmlsbhneIovVgdeAiyU9JOn3kpYAVoiISQDp7/KdPQb35jUzs7oWESOAEe1s0hP4DHBoRNwv6RwKNOm2xjVTMzOrVNnNvMAEYEJE3J+eX00WXCdLGpDKMACY0tljcDA1M7NKld2bNyJeBV6WtGZK2hJ4ErgB2C+l7Qdc39ljcDOvmZlVqouGEzwUGCVpUeC/wAFkFcorJR0IjAd27+zOHUzNzKzhRcTDwAatrNpyQezfwdTMzCrVCNcbHUzNzKxSjTBrTKk/CCR9pP25tTQzM1t4dcVwgmUru3Z9XAfTzMxsIdVFwwmWqpRmXknbAtsBK0s6N7eqDzCrjDzNzMyqUtY104nAWGBHYFwufTpwREl5mplZHWrqNo21nVdKMI2IR4BHJP0pIj4oIw8zM2sM3aWptoiye/NuJOkkYNWUl4CIiNVLztfMzOqEXDOt6SKyZt1xwOyS8zIzszrkmmltb0XELSXnYWZmVqmyg+kdks4ArgHea06MiAdLztfMzOqEOyDV9tn0Nz8eYgBblJyvmZnVCTfz1hARm5e5fzMzq3+NEEzLHk5wBUkXSbolPR+aproxMzNrGGUPJ3gJcCuwUnr+LHB4yXmamVkdUcF/3UHZwbR/RFwJzAGIiFn4FhkzM8tpUrGlOyi7A9IMSf3IOh0h6XPAWyXnaWZmdaS71C6LKDuYHgncAHxM0j3AcsBuJedpZmZ1pBE6IJXdm/dBSV8E1iQbSvAZj9VrZmaNpqwp2HZpY9UakoiIa8rI18zM6o+bedv2lXbWBdmISGZmZt2mE1ERZU3BdkAZ+zUzs8bjmmkNkn7cWnpEnFJmvvZRUya/yuknH8+0N15HTU1sv/Ou7Lrnvlx84fncc9cdNDU1scyyfTn6R6fSf7nlqy6u2TwuOHEftt1sHV6bOp0Ndv8pAMcftB3f3GVjXpv2DgAnnn8Dt979JIv07MH5J+zNZ4YOYk7M4fu/+Av/HPdclcW3GtwBqbYZuce9gB2Ap0rO01rRo0cPDj7sKNZYayjvzpjBwfvvxfobfZ499t2fAw76LgDXXDGKS/9wIUcc86OKS2s2r0tvvI8LrriT35/6jXnSz7vsDs6+dPQ8ad/cZRMANtzjpyy37JJcd/53+MK+ZxARXVZeW/iU3Zv3V/nnkn5JdquMdbF+/ZejX//lAFh8iSVYdfBqvD5lCoNX+9jcbf73v5kN0NhijeieB//DoAF9O7TtWquvyB0PPAPAa9Pe4a3pM1l/6CDGPvFSmUW0Ahrhe6fsEZBaWhxYvYvztBZenfgKzz/7NJ9Y55MAXPTbc9lrxy8x+ta/sv/wQyounVnHHbzXZjxwxXFccOI+LLNUbwAee/YVvjLsk/To0cSqK/Xj00MHssqKy1ZcUmtPk1Ro6Q7KHuj+MUmPpuUJ4BngnHa2Hy5prKSxoy75fZlFW2jNfPddTjruSL5z+NEsscSSABz4f4fx5xtuZ8utt+e6qy+vuIRmHfO7q/7J0K+cxGf3Op1XX3+b04/M7sgbef29vDL5Te4ZdTRn/GBX7nvkBWbN9iim3ZkKLt1B2ddMd8g9ngVMTuPztioiRgAjACZMe88XOBawWbM+4KTjjmTLrbdn0823+sj6Lb+8HT886hD2/7Zrp9b9TZk6fe7jP1xzD9ecezAAs2fP4ehffXj33R2XHMnz41/r8vLZwqWUmqmkvpL6AtNzy0ygT0q3LhYR/PK0Exk0eDV2/9qHnTgmjP/wOtK//jmGgauuVkHpzObfiv37zH280xaf4sn/TAKgd69FWLzXogBs8dm1mDV7Dk//99VKymgd1ABV07JqpuPIBmcQMAiYlh4vA4wH/I3dxR5/5CFuv+UmVvvYEIZ/fXcga9695YZreHn8i0hNrLDiAA53T17rhkb+bH82XX8I/ZdZkuf/diqnXnAzm60/hHXXXIWI4KVJUzn0J9kliuWWXYobf3MIc+YEE197kwNPGFlx6a2WRrjPVGV2F5d0AXBDRNycnm8LbBURR9V6rZt5rVEM2aLm6W7W7c186PzSIt4D/32r0Pf9RqsvXXk0Lrs374bNgRQgIm4BvlhynmZmVkcaoJW39A5Ir0s6AbiMrNl3X+CNkvM0MzPrUmXXTPcmm8P0WuA6YPmUZmZmlmmAqmnZIyBNBb5XZh5mZlbfuqIDkqQewFjglYjYId1ZcgUwGHgR2CMipnV2/2UPdH8HWfPuPCJiizLzNTOz+tFFgxh9j2xs+OZ7qo4FRkfE6ZKOTc+P6ezOy75m+v3c417ArmSDN5iZmQHlt9RKWgXYHjgNODIl7wQMS49HAmPorsE0Isa1SLpH0p1l5mlmZgsXScOB4bmkEWlEvWZnA0cDS+XSVoiISQARMUlSobkny27mzY921ASsD6xYZp5mZlZnClZN80PRfmTX0g7AlIgYJ2lYsZzaVnYzb34kpFnAC8CBJedpZmZ1pOQOSJsAO0rajuxyYx9JlwGTJQ1ItdIBwJQimZTdzOthA83MrF1ldkCKiOOA47J8NAz4fkTsK+kMYD/g9PT3+iL5lF0zRdI6wFCyXwQARMQfy87XzMysHacDV0o6kGzM+N2L7Kzsa6YnkvWWGgrcDGwL3A04mJqZGdB14y5ExBiyXrtExBvAlgtq32WPgLQbWWFfjYgDgE8Bi5Wcp5mZ1ROPgFTTzIiYI2mWpD5kF3hXLzlPMzOrI40wBVvZwXSspGWA35H17H0HeKDkPM3MrI500QhIpSotmEoS8LOIeBO4QNLfgD4R8WhZeZqZmVWhtGAaESHpOrKBGoiIF8vKy8zM6lcDVExL74B0n6QNS87DzMzqmTsg1bQ5cLCkF4EZZIcdEbFuyfmamVmdcAekNkgaFBHjye4rNTMza5M7ILXtOuAzEfGSpL9ExK4l5WNmZla5soJp/neG7ys1M7M2NUDFtLRgGm08NjMzm1cDRNOygumnJL1N9hb1To/hww5IfUrK18zM6ow7ILUhInqUsV8zM7PuqPQp2MzMzNrj3rxmZmYFNUAsdTA1M7OKNUA0dTA1M7NKNUIHpLLH5jUzM2t4rpmamVml3AHJzMysoAaIpQ6mZmZWsQaIpg6mZmZWKXdAMjMzM9dMzcysWu6AZGZmVlADxFIHUzMzq1gDRFNfMzUzMyvINVMzM6tUI/TmdTA1M7NKuQOSmZlZQQ0QSx1MzcysWo1QM3UHJDMzs4JcMzUzs4rVf9XUNVMzM6uUVGypvX8NlHSHpKckPSHpeym9r6TbJT2X/i7b2WNwMDUzs0qp4NIBs4CjIuITwOeAQyQNBY4FRkfEEGB0et4pDqZmZlapsmumETEpIh5Mj6cDTwErAzsBI9NmI4GdO3sMDqZmZrbQkDQY+DRwP7BCREyCLOACy3d2vw6mZmZWKRX9Jw2XNDa3DG81H2lJ4C/A4RHx9oI8BvfmNTOzahXszBsRI4AR7WYhLUIWSEdFxDUpebKkARExSdIAYEpny+CaqZmZVarsDkiSBFwEPBURZ+ZW3QDslx7vB1zf2WNwzdTMzBrdJsDXgcckPZzSfgicDlwp6UBgPLB7ZzNwMDUzs0qVPZxgRNxN25XYLRdEHg6mZmZWKU/BZmZmVlT9x1IHUzMzq1YDxFL35jUzMyvKNVMzM6tUI8xn6mBqZmaVcgckMzOzghqhZuprpmZmZgU5mJqZmRXkZl4zM6tUIzTzOpiamVml3AHJzMysoEaomfqaqZmZWUGumZqZWaUaoGLqYGpmZhVrgGjqYGpmZpVyByQzM7OC3AHJzMzMXDM1M7NqNUDF1MHUzMwq1gDR1MHUzMwq1QgdkHzN1MzMrCDXTM3MrFKN0JtXEVF1GawikoZHxIiqy2FWlM9lq5qbeRduw6sugNkC4nPZKuVgamZmVpCDqZmZWUEOpgs3X2OyRuFz2SrlDkhmZmYFuWZqZmZWkINpF5EUkn6Ve/59SSctoH2fJOkVSQ+n5fQFsd8Weewv6fwa2wyW9HiBPA6XtHhnX2/dj6TZufPyYUmDS8jjRUn9a2xziaTdOrn/9SRt17nS2cLCwbTrvAfsUus/fQFnRcR6aTk2v0JSvQzOcTjgYNpYZubOy/Ui4sXmFcrUw3fQeoCDqbWrHk7kRjGLrJPEES1XSFpV0mhJj6a/g1L6JZLOlfQvSf+dn1/W6bVnSroD+LmkjdJ+Hkp/10zbzVPjlHSTpGHp8QGSnpV0J7BJi33vlnv+Tiv595B0hqR/p+M6KKUPkzRG0tWSnpY0Kn2pHgasBNyRymwNKLVePCXpN8CDwEBJv5U0VtITkk7ObTu3xilpA0lj0uN+km5L5/KFpGHSW7aMtNX6I2l9SXdKGifpVkkDUvoYST+X9EA67zeVtChwCrBnqlnvWdqbY3XNwbRr/RrYR9LSLdLPB/4YEesCo4Bzc+sGAF8AdgDaa749IteUtnVKWwPYKiKOAp4GNouITwM/Bn7aXkHTF8zJZEH0S8DQjhxgzoHAWxGxIbAh8G1Jq6V1nyarhQ4FVgc2iYhzgYnA5hGx+XzmZd1X79x5eW1KW5PsfP90RLwEHB8RGwDrAl+UtG6NfZ4I3J3O5RuAQR0tjKRFgPOA3SJifeAPwGm5TXpGxEZk5+eJEfE+2f+XK1LN+oqO5mULl3pp/msIEfG2pD8ChwEzc6s+D+ySHl8K/CK37rqImAM8KWmFdnZ/VkT8svmJpL2BqyJidkpaGhgpaQgQwCI1ivtZYExEvJb2dwVZcO6oLwPr5mqwSwNDgPeBByJiQtrvw8Bg4O752LfVj5kRsV7zk3TN9KWIuC+3zR6ShpN9Hw0g+5H1aDv73Iz0/yUi/ipp2nyUZ01gHeB2ZQPC9gAm5dZfk/6OIzsvzTrEwbTrnU3WvHVxO9vk71d6L/e4uTnrNGB7gPwXVStm5B6fCtwREV9NX2hjUvos5m2h6NVGOfLmvkbZN9KirWwj4NCIuHWexKwJOX9Ms/F5uLCZe16m1orvAxtGxDRJl/DhOZg/N3sxr9bOzfbO5blZAk9ExOfbKFvzuenz0uaLm3m7WERMBa4kawZt9i9gr/R4H2rU0iLi+OYOHfOR9dLAK+nx/rn0F4H1JDVJGghslNLvB4al61OLALu3eM366fFOtF7LvRX4v/RaJK0haYkaZZwOLNWho7FG0YcsuL6VWl62za17kQ/Ps11z6XeR/T9B0rbAsil9MrB8OmcXI7s00tIzwHKSPp9ev4iktWuU0eel1eRgWo1fAflevYcBB0h6FPg68L0S8vwF8DNJ95A1bTW7B3gBeAz4JVmtmYiYBJwE3Av8vTk9+R3Zta0HyJqD8zXgZr8HngQeTJ1CLqT2L/0RwC3ugLTwiIhHgIeAJ8iuX96TW30ycI6kf5LVFPPpm0l6kOxywvi0rw/IOgvdD9xE1k+gZX7vA7uRdcp7BHgY2LhGMe8AhroDkrXHIyCZmZkV5JqpmZlZQQ6mZmZmBTmYmpmZFeRgamZmVpCDqZmZWUEOpmbMM7vJ45KuUoHZa/JjF0v6vaQ2h2JMYxXXujWjtdfVnCnFzLqOg6lZpnl2k3XIhjw8OL9SUo/WX9a+iPhWRDzZzibDqH2fo5l1cw6mZh/1T+DjqdZ4h6Q/AY+1MxOOJJ0v6UlJfwWWb95Rmolkg/R4G0kPSnpE2exAg8mCdvMkBZtKWk7SX1Ie/5a0SXptqzOlmFn34LEnzXKUzf26LfC3lLQRsE5EvJAGY38rIjZMw9XdI+k2sllw1gQ+CaxANvLTH1rsdzmykaM2S/vqGxFTJV0AvNM8SUEK3GdFxN3KpuK7FfgEH86Ucoqk7YHhpb4RZjZfHEzNMr3TDDaQ1UwvImt+fSAiXkjpbc2EsxlweZqhZ6Kkf7Sy/88BdzXvK43R3JqtyIaua37eR9JSFJspxcxK5mBqlpnZcuKAFNDy4w63NRPOdrQ9w07+tR0Zu7MJ+HxE5Kfoay6Lx/4066Z8zdSs49qaCecuYK90TXUA0Nrk5veSTQ6wWnpt35TeckaS24DvNj+RtF562NZMKWbWDTiYmnVcWzPhXAs8Rzbzzm+BO1u+ME2yPhy4Js1WckVadSPw1eYOSGQzCG2QOjg9yYe9iludKcXMugfPGmNmZlaQa6ZmZmYFOZiamZkV5GBqZmZWkIOpmZlZQQ6mZmZmBTmYmpmZFeRgamZmVpCDqZmZWUH/D4WIuV/xgw/+AAAAAElFTkSuQmCC\n",
      "text/plain": [
       "<Figure size 576x432 with 2 Axes>"
      ]
     },
     "metadata": {
      "needs_background": "light"
     },
     "output_type": "display_data"
    },
    {
     "name": "stdout",
     "output_type": "stream",
     "text": [
      "Results:\n",
      "{'Logistic Regression': {'Accuracy': 0.9020172910662824}, 'Random Forest': {'Accuracy': 0.8933717579250721}, 'Decision Tree': {'Accuracy': 0.7982708933717579}, 'Support Vector Classifier': {'Accuracy': 0.9135446685878963}}\n"
     ]
    }
   ],
   "source": [
    "# Creating pipelines for different classifiers\n",
    "classifiers = {\n",
    "    'Logistic Regression': LogisticRegression(),\n",
    "    'Random Forest': RandomForestClassifier(),\n",
    "    'Decision Tree': DecisionTreeClassifier(),\n",
    "    'Support Vector Classifier': SVC()\n",
    "}\n",
    "\n",
    "results = {}\n",
    "\n",
    "# Iterate through classifiers and evaluate\n",
    "for classifier_name, classifier in classifiers.items():\n",
    "    pipeline = Pipeline([\n",
    "        ('vectorizer', vectorizer),\n",
    "        ('classifier', classifier)\n",
    "    ])\n",
    "\n",
    "    # Fit the model\n",
    "    pipeline.fit(X_train, y_train)\n",
    "\n",
    "    # Make predictions\n",
    "    y_pred = pipeline.predict(X_test)\n",
    "\n",
    "    # Calculating accuracy\n",
    "    accuracy = accuracy_score(y_test, y_pred)\n",
    "\n",
    "    # Calculating confusion matrix\n",
    "    cm = confusion_matrix(y_test, y_pred)\n",
    "\n",
    "    print(f\"Classifier: {classifier_name}\")\n",
    "    print(f\"Accuracy: {accuracy}\")\n",
    "    print(\"\\nClassification Report:\")\n",
    "    print(classification_report(y_test, y_pred))\n",
    "\n",
    "    # Store results\n",
    "    results[classifier_name] = {\n",
    "        'Accuracy': accuracy,\n",
    "    }\n",
    "\n",
    "    # Plot confusion matrix as a heatmap\n",
    "    plt.figure(figsize=(8, 6))\n",
    "    sns.heatmap(cm, annot=True, fmt='d', cmap='Blues', xticklabels=['Non-Fraudulent', 'Fraudulent'],\n",
    "                yticklabels=['Non-Fraudulent', 'Fraudulent'])\n",
    "    plt.xlabel('Predicted')\n",
    "    plt.ylabel('Actual')\n",
    "    plt.title(f'Confusion Matrix - {classifier_name}')\n",
    "    plt.show()\n",
    "\n",
    "print(\"Results:\")\n",
    "print(results)"
   ]
  },
  {
   "cell_type": "markdown",
   "id": "2e449a26",
   "metadata": {},
   "source": [
    "**Result** \n",
    "\n",
    "**Support Vector Classifier (SVC)** is the best-fit model compare to the other classifiers. SVC achieved the highest accuracy score on our balanced dataset, demonstrating its capability to effectively classify fraudulent and non-fraudulent cases. Additionally, when reviewing the confusion matrices and classification reports, SVC consistently demonstrated balanced precision and recall rates for both classes."
   ]
  }
 ],
 "metadata": {
  "kernelspec": {
   "display_name": "Python 3 (ipykernel)",
   "language": "python",
   "name": "python3"
  },
  "language_info": {
   "codemirror_mode": {
    "name": "ipython",
    "version": 3
   },
   "file_extension": ".py",
   "mimetype": "text/x-python",
   "name": "python",
   "nbconvert_exporter": "python",
   "pygments_lexer": "ipython3",
   "version": "3.9.12"
  }
 },
 "nbformat": 4,
 "nbformat_minor": 5
}
